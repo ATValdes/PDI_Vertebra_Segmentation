{
 "cells": [
  {
   "cell_type": "code",
   "execution_count": 1,
   "id": "4a4db78a-f7bf-416a-804e-eabb83d54c59",
   "metadata": {},
   "outputs": [
    {
     "name": "stdout",
     "output_type": "stream",
     "text": [
      "Collecting SimpleITK\n",
      "  Downloading SimpleITK-2.1.1.2-cp39-cp39-manylinux_2_12_x86_64.manylinux2010_x86_64.whl (48.4 MB)\n",
      "\u001b[K     |████████████████████████████████| 48.4 MB 310 kB/s eta 0:00:01\n",
      "\u001b[?25hInstalling collected packages: SimpleITK\n",
      "Successfully installed SimpleITK-2.1.1.2\n",
      "Collecting pyradiomics\n",
      "  Using cached pyradiomics-3.0.1.tar.gz (34.5 MB)\n",
      "Requirement already satisfied: numpy>=1.9.2 in /home/calculo3/anaconda3/envs/gpu/lib/python3.9/site-packages (from pyradiomics) (1.21.5)\n",
      "Requirement already satisfied: SimpleITK>=0.9.1 in /home/calculo3/anaconda3/envs/gpu/lib/python3.9/site-packages (from pyradiomics) (2.1.1.2)\n",
      "Collecting PyWavelets>=0.4.0\n",
      "  Downloading PyWavelets-1.3.0-cp39-cp39-manylinux_2_17_x86_64.manylinux2014_x86_64.whl (6.9 MB)\n",
      "\u001b[K     |████████████████████████████████| 6.9 MB 3.4 MB/s eta 0:00:01\n",
      "\u001b[?25hCollecting pykwalify>=1.6.0\n",
      "  Using cached pykwalify-1.8.0-py2.py3-none-any.whl (24 kB)\n",
      "Requirement already satisfied: six>=1.10.0 in /home/calculo3/anaconda3/envs/gpu/lib/python3.9/site-packages (from pyradiomics) (1.16.0)\n",
      "Requirement already satisfied: python-dateutil>=2.8.0 in /home/calculo3/anaconda3/envs/gpu/lib/python3.9/site-packages (from pykwalify>=1.6.0->pyradiomics) (2.8.2)\n",
      "Collecting ruamel.yaml>=0.16.0\n",
      "  Using cached ruamel.yaml-0.17.21-py3-none-any.whl (109 kB)\n",
      "Collecting docopt>=0.6.2\n",
      "  Using cached docopt-0.6.2.tar.gz (25 kB)\n",
      "Collecting ruamel.yaml.clib>=0.2.6\n",
      "  Downloading ruamel.yaml.clib-0.2.6-cp39-cp39-manylinux1_x86_64.whl (539 kB)\n",
      "\u001b[K     |████████████████████████████████| 539 kB 17.3 MB/s eta 0:00:01\n",
      "\u001b[?25hBuilding wheels for collected packages: pyradiomics, docopt\n",
      "  Building wheel for pyradiomics (setup.py) ... \u001b[?25ldone\n",
      "\u001b[?25h  Created wheel for pyradiomics: filename=pyradiomics-3.0.1-cp39-cp39-linux_x86_64.whl size=117356 sha256=720b409177cd6939bc133d18d2cf9db15240eed3713f562dad73f96356a8144e\n",
      "  Stored in directory: /home/calculo3/.cache/pip/wheels/62/0f/06/e8bdcc276fc814981e11a2fc4da7ad0da0a7e68a60fe90e747\n",
      "  Building wheel for docopt (setup.py) ... \u001b[?25ldone\n",
      "\u001b[?25h  Created wheel for docopt: filename=docopt-0.6.2-py2.py3-none-any.whl size=13723 sha256=8938248a265550816eda52320a2c5e5b7e5fdc52246ff12c4931f058e98582db\n",
      "  Stored in directory: /home/calculo3/.cache/pip/wheels/70/4a/46/1309fc853b8d395e60bafaf1b6df7845bdd82c95fd59dd8d2b\n",
      "Successfully built pyradiomics docopt\n",
      "Installing collected packages: ruamel.yaml.clib, ruamel.yaml, docopt, PyWavelets, pykwalify, pyradiomics\n",
      "Successfully installed PyWavelets-1.3.0 docopt-0.6.2 pykwalify-1.8.0 pyradiomics-3.0.1 ruamel.yaml-0.17.21 ruamel.yaml.clib-0.2.6\n"
     ]
    }
   ],
   "source": [
    "!pip install SimpleITK\n",
    "!pip install pyradiomics"
   ]
  },
  {
   "cell_type": "code",
   "execution_count": 1,
   "id": "df6d6c30-5745-4b7f-a505-a70609d43abe",
   "metadata": {},
   "outputs": [],
   "source": [
    "from __future__ import print_function\n",
    "\n",
    "import logging\n",
    "import os\n",
    "\n",
    "import pandas \n",
    "import SimpleITK as sitk\n",
    "\n",
    "import radiomics\n",
    "from radiomics import featureextractor"
   ]
  },
  {
   "cell_type": "code",
   "execution_count": 4,
   "id": "ed939e64-c687-4bce-b0fb-9a45ac13aca3",
   "metadata": {},
   "outputs": [
    {
     "name": "stderr",
     "output_type": "stream",
     "text": [
      "pyradiomics version: v3.0.1\n",
      "Loading CSV\n",
      "Loading Done\n",
      "Patients: 4\n",
      "Loading parameter file Params_dxa.yaml\n",
      "Enabled input images types: {'Original': {}}\n",
      "Enabled features: {'firstorder': [], 'glcm': None, 'glrlm': None, 'glszm': None, 'gldm': None, 'ngtdm': None}\n",
      "Current settings: {'minimumROIDimensions': 2, 'minimumROISize': None, 'normalize': True, 'normalizeScale': 1, 'removeOutliers': None, 'resampledPixelSpacing': None, 'interpolator': 'sitkBSpline', 'preCrop': False, 'padDistance': 5, 'distances': [1], 'force2D': False, 'force2Ddimension': 0, 'resegmentRange': None, 'label': 255, 'additionalInfo': True}\n",
      "(1/4) Processing Patient (Image: test_images/L1.tif, Mask: test_images/L1_mask.tif)\n",
      "Calculating features with label: 255\n",
      "Loading image and mask\n",
      "Adding image type \"Original\" with custom settings: {}\n",
      "Calculating features for original image\n",
      "Computing firstorder\n",
      "Computing glcm\n",
      "GLCM is symmetrical, therefore Sum Average = 2 * Joint Average, only 1 needs to be calculated\n",
      "Computing glrlm\n",
      "Computing glszm\n",
      "Computing gldm\n",
      "Computing ngtdm\n",
      "/tmp/ipykernel_127825/3208723563.py:88: FutureWarning: The series.append method is deprecated and will be removed from pandas in a future version. Use pandas.concat instead.\n",
      "  featureVector = featureVector.append(result)\n",
      "(2/4) Processing Patient (Image: test_images/L2.tif, Mask: test_images/L2_mask.tif)\n",
      "Calculating features with label: 255\n",
      "Loading image and mask\n"
     ]
    },
    {
     "name": "stdout",
     "output_type": "stream",
     "text": [
      "test_images/L1.tif\n",
      "test_images/L1_mask.tif\n",
      "0\n",
      "test_images/L2.tif\n",
      "test_images/L2_mask.tif\n"
     ]
    },
    {
     "name": "stderr",
     "output_type": "stream",
     "text": [
      "Adding image type \"Original\" with custom settings: {}\n",
      "Calculating features for original image\n",
      "Computing firstorder\n",
      "Computing glcm\n",
      "GLCM is symmetrical, therefore Sum Average = 2 * Joint Average, only 1 needs to be calculated\n",
      "Computing glrlm\n",
      "Computing glszm\n",
      "Computing gldm\n",
      "Computing ngtdm\n",
      "/tmp/ipykernel_127825/3208723563.py:88: FutureWarning: The series.append method is deprecated and will be removed from pandas in a future version. Use pandas.concat instead.\n",
      "  featureVector = featureVector.append(result)\n",
      "(3/4) Processing Patient (Image: test_images/L3.tif, Mask: test_images/L3_mask.tif)\n",
      "Calculating features with label: 255\n",
      "Loading image and mask\n",
      "Adding image type \"Original\" with custom settings: {}\n",
      "Calculating features for original image\n",
      "Computing firstorder\n",
      "Computing glcm\n",
      "GLCM is symmetrical, therefore Sum Average = 2 * Joint Average, only 1 needs to be calculated\n",
      "Computing glrlm\n",
      "Computing glszm\n",
      "Computing gldm\n",
      "Computing ngtdm\n",
      "/tmp/ipykernel_127825/3208723563.py:88: FutureWarning: The series.append method is deprecated and will be removed from pandas in a future version. Use pandas.concat instead.\n",
      "  featureVector = featureVector.append(result)\n",
      "(4/4) Processing Patient (Image: test_images/L4.tif, Mask: test_images/L4_mask.tif)\n",
      "Calculating features with label: 255\n",
      "Loading image and mask\n",
      "Adding image type \"Original\" with custom settings: {}\n",
      "Calculating features for original image\n",
      "Computing firstorder\n",
      "Computing glcm\n",
      "GLCM is symmetrical, therefore Sum Average = 2 * Joint Average, only 1 needs to be calculated\n",
      "Computing glrlm\n",
      "Computing glszm\n",
      "Computing gldm\n",
      "Computing ngtdm\n",
      "/tmp/ipykernel_127825/3208723563.py:88: FutureWarning: The series.append method is deprecated and will be removed from pandas in a future version. Use pandas.concat instead.\n",
      "  featureVector = featureVector.append(result)\n",
      "Extraction complete, writing CSV\n"
     ]
    },
    {
     "name": "stdout",
     "output_type": "stream",
     "text": [
      "1\n",
      "test_images/L3.tif\n",
      "test_images/L3_mask.tif\n",
      "2\n",
      "test_images/L4.tif\n",
      "test_images/L4_mask.tif\n",
      "3\n"
     ]
    },
    {
     "name": "stderr",
     "output_type": "stream",
     "text": [
      "CSV writing complete\n"
     ]
    }
   ],
   "source": [
    "#ESTE Es El ARCHIVO PARA EXTRAER FEATURES CON PYRADIOMICS\n",
    "\n",
    "\n",
    "outPath = ''\n",
    "paramsPath= ''\n",
    "inputPath = ''\n",
    "inputCSV = os.path.join(inputPath, 'test_images.csv')\n",
    "outputFilepath = os.path.join(outPath, 'radiomicsFeatures.csv')\n",
    "progress_filename = os.path.join(outPath, 'pyrad_log.txt')\n",
    "params = os.path.join(paramsPath, 'Params_dxa.yaml')\n",
    "\n",
    " # Configure logging\n",
    "rLogger = logging.getLogger('radiomics')\n",
    "\n",
    "  # Set logging level\n",
    "  # rLogger.setLevel(logging.INFO)  # Not needed, default log level of logger is INFO\n",
    "\n",
    "  # Create handler for writing to log file\n",
    "handler = logging.FileHandler(filename=progress_filename, mode='w')\n",
    "handler.setFormatter(logging.Formatter('%(levelname)s:%(name)s: %(message)s'))\n",
    "rLogger.addHandler(handler)\n",
    "\n",
    "  # Initialize logging for batch log messages\n",
    "logger = rLogger.getChild('batch')\n",
    "\n",
    "  # Set verbosity level for output to stderr (default level = WARNING)\n",
    "radiomics.setVerbosity(logging.INFO)\n",
    "\n",
    "logger.info('pyradiomics version: %s', radiomics.__version__)\n",
    "logger.info('Loading CSV')\n",
    "    #flists = pandas.read_csv(inputCSV).T\n",
    "try:\n",
    "    # Use pandas to read and transpose ('.T') the input data\n",
    "    # The transposition is needed so that each column represents one test case. This is easier for iteration over\n",
    "    # the input cases\n",
    "    flists = pandas.read_csv(inputCSV).T\n",
    "except Exception:\n",
    "    logger.error('CSV READ FAILED', exc_info=True)\n",
    "    exit(-1)\n",
    "\n",
    "logger.info('Loading Done')\n",
    "logger.info('Patients: %d', len(flists.columns))\n",
    "    \n",
    "extractor = featureextractor.RadiomicsFeatureExtractor(params)\n",
    "'''if os.path.isfile(params):\n",
    "        extractor = featureextractor.RadiomicsFeatureExtractor(params)\n",
    "    else:  # Parameter file not found, use hardcoded settings instead\n",
    "        settings = {}\n",
    "        settings['binWidth'] = 25\n",
    "        settings['resampledPixelSpacing'] = None  # [3,3,3]\n",
    "        settings['interpolator'] = sitk.sitkBSpline\n",
    "        settings['enableCExtensions'] = True\n",
    "        extractor = featureextractor.RadiomicsFeatureExtractor(**settings)\n",
    "        # extractor.enableInputImages(wavelet= {'level': 2})\n",
    "'''\n",
    "logger.info('Enabled input images types: %s', extractor.enabledImagetypes)\n",
    "logger.info('Enabled features: %s', extractor.enabledFeatures)\n",
    "logger.info('Current settings: %s', extractor.settings)\n",
    "\n",
    "  # Instantiate a pandas data frame to hold the results of all patients\n",
    "results = pandas.DataFrame()\n",
    "\n",
    "for entry in flists:  # Loop over all columns (i.e. the test cases)\n",
    "    logger.info(\"(%d/%d) Processing Patient (Image: %s, Mask: %s)\",\n",
    "        entry + 1,\n",
    "        len(flists),\n",
    "        flists[entry]['Image'],\n",
    "        flists[entry]['Mask'])\n",
    "       \n",
    "    imageFilepath = flists[entry]['Image']\n",
    "    maskFilepath = flists[entry]['Mask']\n",
    "        #label = flists[entry].get('Label', None)\n",
    "\n",
    "    label =255\n",
    "\n",
    "    if (imageFilepath is not None) and (maskFilepath is not None):\n",
    "        featureVector = flists[entry]  # This is a pandas Series\n",
    "        featureVector['Image'] = os.path.basename(imageFilepath)\n",
    "        featureVector['Mask'] = os.path.basename(maskFilepath)\n",
    "\n",
    "        try:\n",
    "        # PyRadiomics returns the result as an ordered dictionary, which can be easily converted to a pandas Series\n",
    "        # The keys in the dictionary will be used as the index (labels for the rows), with the values of the features\n",
    "        # as the values in the rows.\n",
    "            print(imageFilepath)\n",
    "            print(maskFilepath)\n",
    "            result = pandas.Series(extractor.execute(imageFilepath, maskFilepath, label=255))\n",
    "            featureVector = featureVector.append(result)\n",
    "        except Exception:\n",
    "            logger.error('FEATURE EXTRACTION FAILED:', exc_info=True)\n",
    "\n",
    "      # To add the calculated features for this case to our data frame, the series must have a name (which will be the\n",
    "      # name of the column.\n",
    "        print(entry)\n",
    "        featureVector.name = entry\n",
    "      # By specifying an 'outer' join, all calculated features are added to the data frame, including those not\n",
    "      # calculated for previous cases. This also ensures we don't end up with an empty frame, as for the first patient\n",
    "      # it is 'joined' with the empty data frame.\n",
    "        results = results.join(featureVector, how='outer')  # If feature extraction failed, results will be all NaN\n",
    "\n",
    "\n",
    "logger.info('Extraction complete, writing CSV')\n",
    "  # .T transposes the data frame, so that each line will represent one patient, with the extracted features as columns\n",
    "results.T.to_csv(outputFilepath, index=False, na_rep='NaN')\n",
    "logger.info('CSV writing complete')\n",
    "    \n",
    "    #print(results.T['original_glszm_LargeAreaLowGrayLevelEmphasis'])"
   ]
  },
  {
   "cell_type": "code",
   "execution_count": 2,
   "id": "df03c260-4f48-4e9e-8a11-3805d524574b",
   "metadata": {},
   "outputs": [
    {
     "ename": "NameError",
     "evalue": "name 'results' is not defined",
     "output_type": "error",
     "traceback": [
      "\u001b[0;31m---------------------------------------------------------------------------\u001b[0m",
      "\u001b[0;31mNameError\u001b[0m                                 Traceback (most recent call last)",
      "Cell \u001b[0;32mIn [2], line 2\u001b[0m\n\u001b[1;32m      1\u001b[0m pandas\u001b[39m.\u001b[39mset_option(\u001b[39m\"\u001b[39m\u001b[39mdisplay.max_rows\u001b[39m\u001b[39m\"\u001b[39m, \u001b[39mNone\u001b[39;00m, \u001b[39m\"\u001b[39m\u001b[39mdisplay.max_columns\u001b[39m\u001b[39m\"\u001b[39m, \u001b[39mNone\u001b[39;00m)\n\u001b[0;32m----> 2\u001b[0m \u001b[39mprint\u001b[39m(results\u001b[39m.\u001b[39mT[\u001b[39m'\u001b[39m\u001b[39moriginal_ngtdm_Complexity\u001b[39m\u001b[39m'\u001b[39m])\n",
      "\u001b[0;31mNameError\u001b[0m: name 'results' is not defined"
     ]
    }
   ],
   "source": [
    "pandas.set_option(\"display.max_rows\", None, \"display.max_columns\", None)\n",
    "print(results.T['original_ngtdm_Complexity'])"
   ]
  },
  {
   "cell_type": "code",
   "execution_count": null,
   "id": "c5b6c0a7-a804-4082-8da0-9f66965f00e3",
   "metadata": {},
   "outputs": [],
   "source": []
  }
 ],
 "metadata": {
  "kernelspec": {
   "display_name": "Python 3.10.7 ('Image_Processing-GqwdbPOF')",
   "language": "python",
   "name": "python3"
  },
  "language_info": {
   "codemirror_mode": {
    "name": "ipython",
    "version": 3
   },
   "file_extension": ".py",
   "mimetype": "text/x-python",
   "name": "python",
   "nbconvert_exporter": "python",
   "pygments_lexer": "ipython3",
   "version": "3.10.7"
  },
  "vscode": {
   "interpreter": {
    "hash": "0c87ac53c0019f4a5b9349367a980567301fc3c7351af8f89a37815fc91b4878"
   }
  },
  "widgets": {
   "application/vnd.jupyter.widget-state+json": {
    "state": {},
    "version_major": 2,
    "version_minor": 0
   }
  }
 },
 "nbformat": 4,
 "nbformat_minor": 5
}
